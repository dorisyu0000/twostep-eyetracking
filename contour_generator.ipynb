{
 "cells": [
  {
   "cell_type": "code",
   "execution_count": 2,
   "metadata": {},
   "outputs": [
    {
     "data": {
      "text/plain": [
       "['contour/pattern_1.png',\n",
       " 'contour/pattern_2.png',\n",
       " 'contour/pattern_3.png',\n",
       " 'contour/pattern_4.png',\n",
       " 'contour/pattern_5.png',\n",
       " 'contour/pattern_6.png',\n",
       " 'contour/pattern_7.png',\n",
       " 'contour/pattern_8.png',\n",
       " 'contour/pattern_9.png']"
      ]
     },
     "execution_count": 2,
     "metadata": {},
     "output_type": "execute_result"
    }
   ],
   "source": [
    "# Re-importing necessary libraries and redefining the function since the code execution state was reset\n",
    "\n",
    "import numpy as np\n",
    "import os\n",
    "import matplotlib.pyplot as plt\n",
    "from matplotlib.backends.backend_agg import FigureCanvasAgg as FigureCanvas\n",
    "from PIL import Image\n",
    "\n",
    "def RFPattern(x, y, C, s, r0, A, w, phi):\n",
    "    # Convert cartesian coordinates to polar coordinates\n",
    "    theta = np.arctan2(y, x)  # Polar angle\n",
    "    r = np.sqrt(x**2 + y**2)  # Radius\n",
    "\n",
    "    # Radius of the deformed pattern in radians\n",
    "    ro = r0 * (1 + A * np.sin(w * theta + phi))\n",
    "\n",
    "    # Radial fourth derivative of a Gaussian\n",
    "    D4 = C * (1 - 4 * ((r - ro) / s)**2 + 4/3 * ((r - ro) / s)**4) * np.exp(-((r - ro) / s)**2)\n",
    "    \n",
    "    # Normalize D4 for visualization\n",
    "    D4_normalized = (D4 - D4.min()) / (D4.max() - D4.min())\n",
    "    \n",
    "    # Create alpha channel based on a radius threshold\n",
    "    alpha = np.zeros_like(r)\n",
    "    radius_threshold = r0 + 2 * s  # Define the radius threshold beyond which we make it transparent\n",
    "    alpha[r <= radius_threshold] = 1\n",
    "    \n",
    "    # Combine into an RGBA image\n",
    "    rgba_image = np.zeros((D4.shape[0], D4.shape[1], 4))  # Empty RGBA image\n",
    "    rgba_image[..., 0] = D4_normalized  # Red channel\n",
    "    rgba_image[..., 1] = D4_normalized  # Green channel\n",
    "    rgba_image[..., 2] = D4_normalized  # Blue channel\n",
    "    rgba_image[..., 3] = alpha  # Alpha channel\n",
    "    \n",
    "    return rgba_image\n",
    "\n",
    "def save_individual_patterns(params, filename_base, x, y):\n",
    "    for i, (C, s, r0, A, w, phi) in enumerate(params, start=1):\n",
    "        rgba_image = RFPattern(x, y, C, s, r0, A, w, phi)  # This now expects RGBA image data\n",
    "        \n",
    "        # Convert numpy array to image\n",
    "        img = Image.fromarray((rgba_image * 255).astype(np.uint8), 'RGBA')\n",
    "\n",
    "        # Save the image directly using PIL, which handles RGBA properly\n",
    "        filename = f'{filename_base}_{i}.png'\n",
    "        img.save(filename)\n",
    "\n",
    "        # Yield the filename for potential downstream use\n",
    "        yield filename\n",
    "\n",
    "# Parameters for different shapes\n",
    "shapes_params = [\n",
    "    # (C, s, r0, A, w, phi)\n",
    "    (1, 1, 6, 0.40, 3, 0),\n",
    "    (1, 1, 6, 0.30, 3, 0), \n",
    "    (1, 1, 6, 0.20, 3, 0), \n",
    "    (1, 1, 6, 0.10, 3, 0), \n",
    "    (1, 1, 6, 0.10, 4, 0),\n",
    "    (1, 1, 6, 0.10, 5, 0), \n",
    "    (1, 1, 6, 0.20, 5, 0), \n",
    "    (1, 1, 6, 0.30, 5, 0), \n",
    "    (1, 1, 6, 0.40, 5, 0) \n",
    "]\n",
    "\n",
    "# Directory and base filename for the PNG files\n",
    "output_dir = 'images/'\n",
    "filename_base = output_dir + 'pattern'\n",
    "\n",
    "# Generate the mesh grid\n",
    "x, y = np.meshgrid(np.linspace(-10, 10, 200), np.linspace(-10, 10, 200))\n",
    "if not os.path.isdir(output_dir ):\n",
    "    os.makedirs(output_dir )\n",
    "\n",
    "# Generate and save each pattern\n",
    "pattern_files = list(save_individual_patterns(shapes_params, filename_base, x, y))\n",
    "pattern_files"
   ]
  }
 ],
 "metadata": {
  "kernelspec": {
   "display_name": "env",
   "language": "python",
   "name": "python3"
  },
  "language_info": {
   "codemirror_mode": {
    "name": "ipython",
    "version": 3
   },
   "file_extension": ".py",
   "mimetype": "text/x-python",
   "name": "python",
   "nbconvert_exporter": "python",
   "pygments_lexer": "ipython3",
   "version": "3.10.2"
  }
 },
 "nbformat": 4,
 "nbformat_minor": 2
}
